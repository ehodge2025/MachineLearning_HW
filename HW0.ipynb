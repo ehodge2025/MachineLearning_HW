{
 "cells": [
  {
   "cell_type": "code",
   "execution_count": 325,
   "id": "73584c91-9d97-4f28-ac59-967ff13a5712",
   "metadata": {},
   "outputs": [
    {
     "data": {
      "text/html": [
       "<div>\n",
       "<style scoped>\n",
       "    .dataframe tbody tr th:only-of-type {\n",
       "        vertical-align: middle;\n",
       "    }\n",
       "\n",
       "    .dataframe tbody tr th {\n",
       "        vertical-align: top;\n",
       "    }\n",
       "\n",
       "    .dataframe thead th {\n",
       "        text-align: right;\n",
       "    }\n",
       "</style>\n",
       "<table border=\"1\" class=\"dataframe\">\n",
       "  <thead>\n",
       "    <tr style=\"text-align: right;\">\n",
       "      <th></th>\n",
       "      <th>X1</th>\n",
       "      <th>X2</th>\n",
       "      <th>X3</th>\n",
       "      <th>Y</th>\n",
       "    </tr>\n",
       "  </thead>\n",
       "  <tbody>\n",
       "    <tr>\n",
       "      <th>0</th>\n",
       "      <td>0.000000</td>\n",
       "      <td>3.440000</td>\n",
       "      <td>0.440000</td>\n",
       "      <td>4.387545</td>\n",
       "    </tr>\n",
       "    <tr>\n",
       "      <th>1</th>\n",
       "      <td>0.040404</td>\n",
       "      <td>0.134949</td>\n",
       "      <td>0.888485</td>\n",
       "      <td>2.679650</td>\n",
       "    </tr>\n",
       "    <tr>\n",
       "      <th>2</th>\n",
       "      <td>0.080808</td>\n",
       "      <td>0.829899</td>\n",
       "      <td>1.336970</td>\n",
       "      <td>2.968490</td>\n",
       "    </tr>\n",
       "    <tr>\n",
       "      <th>3</th>\n",
       "      <td>0.121212</td>\n",
       "      <td>1.524848</td>\n",
       "      <td>1.785455</td>\n",
       "      <td>3.254065</td>\n",
       "    </tr>\n",
       "    <tr>\n",
       "      <th>4</th>\n",
       "      <td>0.161616</td>\n",
       "      <td>2.219798</td>\n",
       "      <td>2.233939</td>\n",
       "      <td>3.536375</td>\n",
       "    </tr>\n",
       "  </tbody>\n",
       "</table>\n",
       "</div>"
      ],
      "text/plain": [
       "         X1        X2        X3         Y\n",
       "0  0.000000  3.440000  0.440000  4.387545\n",
       "1  0.040404  0.134949  0.888485  2.679650\n",
       "2  0.080808  0.829899  1.336970  2.968490\n",
       "3  0.121212  1.524848  1.785455  3.254065\n",
       "4  0.161616  2.219798  2.233939  3.536375"
      ]
     },
     "execution_count": 325,
     "metadata": {},
     "output_type": "execute_result"
    }
   ],
   "source": [
    "import numpy as np\n",
    "import matplotlib.pyplot as plt\n",
    "import seaborn as sns\n",
    "import pandas as pd \n",
    "D3 = pd.read_csv('D3.csv')\n",
    "D3.head()"
   ]
  },
  {
   "cell_type": "code",
   "execution_count": null,
   "id": "130665ba-5e20-4e5b-b039-26f254195755",
   "metadata": {},
   "outputs": [],
   "source": []
  },
  {
   "cell_type": "code",
   "execution_count": 326,
   "id": "effad6a2-7159-44c0-9f52-a6894d95f706",
   "metadata": {},
   "outputs": [],
   "source": [
    "Y = np.array(D3.values[:,3])\n",
    "m = len(Y)\n",
    "Y = Y.reshape((m,1))\n",
    "X_1 = np.array(D3.values[:,0])\n",
    "X_1 = X_1.reshape((m,1))\n",
    "X_2 = np.array(D3.values[:,1])\n",
    "X_2 = X_2.reshape((m,1))\n",
    "X_3 = np.array(D3.values[:,2])\n",
    "X_3 = X_3.reshape((m,1))\n",
    "X_0 = np.ones((m,1))\n",
    "X_0 = X_0.reshape((m,1))\n",
    "start_value_t0 = 0    #Starting Thetas\n",
    "start_value_t1 = 0\n",
    "theta_0 = start_value_t0\n",
    "theta_1 = start_value_t1\n",
    "theta = np.array([theta_0, theta_1])\n",
    "n= len(theta)\n",
    "theta = theta.reshape((n,1))\n",
    "X = np.array(X_0)\n",
    "X = np.concatenate((X, X_1), 1)\n",
    "theta\n",
    "alpha = 0.03\n",
    "iterations = 2000\n",
    "#print(Y)"
   ]
  },
  {
   "cell_type": "code",
   "execution_count": 327,
   "id": "82cb83dc-c105-4efc-9e8f-677e739650ab",
   "metadata": {},
   "outputs": [],
   "source": [
    "def loss(H,Y,m):\n",
    "    error = np.subtract(H,Y)\n",
    "    error_sqrd = np.square(error)\n",
    "    sum_errors = np.sum(error_sqrd)\n",
    "    loss_num = np.divide(sum_errors,(2*m))\n",
    "    return loss_num"
   ]
  },
  {
   "cell_type": "code",
   "execution_count": 328,
   "id": "16408db6-0a9e-4d71-83bd-15ee71d5a676",
   "metadata": {},
   "outputs": [],
   "source": [
    "def grad_decent(theta_0, theta_1, alpha, X, H, Y, iterations):\n",
    "    loss_hist = np.zeros(iterations)\n",
    "    theta = np.array([theta_0, theta_1])\n",
    "    n= len(theta)\n",
    "    theta = theta.reshape((n,1))\n",
    "    for i in range(iterations):\n",
    "\n",
    "        #theta = np.array([theta_0, theta_1])\n",
    "        n = len(theta)\n",
    "        m = len(Y)\n",
    "        #theta = theta.reshape((n,1))\n",
    "        H = X.dot(theta)\n",
    "        loss_hist[i] = loss(H,Y,m)\n",
    "        #dJ1 = np.subtract(H,Y)       \n",
    "        #dJ1 = dJ1*X_1\n",
    "        #dJ1 = np.sum(dJ1)\n",
    "        #dJ1 = dJ1 / m\n",
    "        err = np.subtract(H,Y)\n",
    "        delta = X.transpose().dot(err)\n",
    "        gradient = delta / m\n",
    "        theta = theta - (alpha*gradient)\n",
    "        #theta_1 = theta_1-(alpha*dJ1)   # Update thetas\n",
    "        #theta_0 = theta_0-(alpha*dJ0)\n",
    "    \n",
    "    return theta, loss_hist"
   ]
  },
  {
   "cell_type": "code",
   "execution_count": 335,
   "id": "02b55582-b432-4628-9f26-8c4f58fa89ef",
   "metadata": {},
   "outputs": [
    {
     "name": "stdout",
     "output_type": "stream",
     "text": [
      "Theta = [[ 2.87141858]\n",
      " [-0.52048149]]\n"
     ]
    },
    {
     "data": {
      "text/plain": [
       "[<matplotlib.lines.Line2D at 0x1cfd2d05670>]"
      ]
     },
     "execution_count": 335,
     "metadata": {},
     "output_type": "execute_result"
    },
    {
     "data": {
      "image/png": "[encoded data removed]",
      "text/plain": [
       "<Figure size 432x288 with 1 Axes>"
      ]
     },
     "metadata": {
      "needs_background": "light"
     },
     "output_type": "display_data"
    },
    {
     "data": {
      "image/png": "[encoded data removed]",
      "text/plain": [
       "<Figure size 432x288 with 1 Axes>"
      ]
     },
     "metadata": {
      "needs_background": "light"
     },
     "output_type": "display_data"
    }
   ],
   "source": [
    "theta, loss_hist = grad_decent(theta_0, theta_1, alpha, X, H, Y, iterations)\n",
    "print('Theta =', theta)\n",
    "#print('Loss =', loss_hist)\n",
    "plt.figure(1)\n",
    "plt.grid()\n",
    "plt.plot(X[:,1],X.dot(theta), color='red')\n",
    "plt.scatter(X[:,1],Y,color='blue')\n",
    "plt.figure(2)\n",
    "plt.grid()\n",
    "plt.plot(range(1,iterations+1), loss_hist, color='green')"
   ]
  },
  {
   "cell_type": "code",
   "execution_count": 330,
   "id": "a0ae4acd-7ea0-427c-97cb-f5a04aa37252",
   "metadata": {},
   "outputs": [],
   "source": [
    "X = np.array(X_0)\n",
    "X = np.concatenate((X, X_2), 1)"
   ]
  },
  {
   "cell_type": "code",
   "execution_count": 334,
   "id": "63151a36-a618-44c1-b050-56a1db7a5515",
   "metadata": {},
   "outputs": [
    {
     "name": "stdout",
     "output_type": "stream",
     "text": [
      "Theta = [[ 2.87141858]\n",
      " [-0.52048149]]\n"
     ]
    },
    {
     "data": {
      "text/plain": [
       "[<matplotlib.lines.Line2D at 0x1cfd2c1a880>]"
      ]
     },
     "execution_count": 334,
     "metadata": {},
     "output_type": "execute_result"
    },
    {
     "data": {
      "image/png": "[encoded data removed]",
      "text/plain": [
       "<Figure size 432x288 with 1 Axes>"
      ]
     },
     "metadata": {
      "needs_background": "light"
     },
     "output_type": "display_data"
    },
    {
     "data": {
      "image/png": "[encoded data removed]",
      "text/plain": [
       "<Figure size 432x288 with 1 Axes>"
      ]
     },
     "metadata": {
      "needs_background": "light"
     },
     "output_type": "display_data"
    }
   ],
   "source": [
    "theta, loss_hist = grad_decent(theta_0, theta_1, alpha, X, H, Y, iterations)\n",
    "print('Theta =', theta)\n",
    "#print('Loss =', loss_hist)\n",
    "plt.figure(3)\n",
    "plt.grid()\n",
    "plt.plot(X[:,1],X.dot(theta), color='red')\n",
    "plt.scatter(X[:,1],Y,color='blue')\n",
    "plt.figure(4)\n",
    "plt.grid()\n",
    "plt.plot(range(1,iterations+1), loss_hist, color='green')"
   ]
  },
  {
   "cell_type": "code",
   "execution_count": 332,
   "id": "381e77fb-6818-4888-8531-e6b63675b947",
   "metadata": {},
   "outputs": [],
   "source": [
    "X = np.array(X_0)\n",
    "X = np.concatenate((X, X_3), 1)"
   ]
  },
  {
   "cell_type": "code",
   "execution_count": 333,
   "id": "972280b6-65a8-469b-99de-c2264cc24dfd",
   "metadata": {},
   "outputs": [
    {
     "name": "stdout",
     "output_type": "stream",
     "text": [
      "Theta = [[ 2.87141858]\n",
      " [-0.52048149]]\n"
     ]
    },
    {
     "data": {
      "text/plain": [
       "[<matplotlib.lines.Line2D at 0x1cfd1b6e520>]"
      ]
     },
     "execution_count": 333,
     "metadata": {},
     "output_type": "execute_result"
    },
    {
     "data": {
      "image/png": "[encoded data removed]",
      "text/plain": [
       "<Figure size 432x288 with 1 Axes>"
      ]
     },
     "metadata": {
      "needs_background": "light"
     },
     "output_type": "display_data"
    },
    {
     "data": {
      "image/png": "[encoded data removed]",
      "text/plain": [
       "<Figure size 432x288 with 1 Axes>"
      ]
     },
     "metadata": {
      "needs_background": "light"
     },
     "output_type": "display_data"
    }
   ],
   "source": [
    "theta, loss_hist = grad_decent(theta_0, theta_1, alpha, X, H, Y, iterations)\n",
    "print('Theta =', theta)\n",
    "#print('Loss =', loss_hist)\n",
    "plt.figure(5)\n",
    "plt.grid()\n",
    "plt.plot(X[:,1],X.dot(theta), color='red')\n",
    "plt.scatter(X[:,1],Y,color='blue')\n",
    "plt.figure(6)\n",
    "plt.grid()\n",
    "plt.plot(range(1,iterations+1), loss_hist, color='green')"
   ]
  },
  {
   "cell_type": "code",
   "execution_count": null,
   "id": "42ce37ba-8623-4d9a-af7f-76fa0339357e",
   "metadata": {},
   "outputs": [],
   "source": []
  },
  {
   "cell_type": "code",
   "execution_count": null,
   "id": "471dae1c-4774-4fb5-b255-c5d7f7b8fbf1",
   "metadata": {},
   "outputs": [],
   "source": []
  },
  {
   "cell_type": "code",
   "execution_count": null,
   "id": "f114d54d-0e9e-4076-be27-7760e8108b1c",
   "metadata": {},
   "outputs": [],
   "source": []
  }
 ],
 "metadata": {
  "kernelspec": {
   "display_name": "Python 3 (ipykernel)",
   "language": "python",
   "name": "python3"
  },
  "language_info": {
   "codemirror_mode": {
    "name": "ipython",
    "version": 3
   },
   "file_extension": ".py",
   "mimetype": "text/x-python",
   "name": "python",
   "nbconvert_exporter": "python",
   "pygments_lexer": "ipython3",
   "version": "3.9.12"
  }
 },
 "nbformat": 4,
 "nbformat_minor": 5
}
